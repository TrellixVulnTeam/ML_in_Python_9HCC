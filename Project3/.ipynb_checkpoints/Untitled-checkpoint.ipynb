{
 "cells": [
  {
   "cell_type": "markdown",
   "metadata": {},
   "source": [
    "### Historical sales data is provided, the task is to forecast Sales for the test set.\n",
    "\n",
    "Files (located in data folder)\n",
    "\n",
    "- train.csv - historical data including Sales\n",
    "- test.csv - historical data excluding Sales\n",
    "- sample_submission.csv - a sample submission file in the correct format\n",
    "- store.csv - supplemental information about the stores\n",
    "\n",
    "Note that some stores in the dataset were temporarily closed for refurbishment"
   ]
  },
  {
   "cell_type": "code",
   "execution_count": 21,
   "metadata": {},
   "outputs": [],
   "source": [
    "import numpy as np\n",
    "import pandas as pd\n",
    "import matplotlib.pyplot as plt\n",
    "%matplotlib inline\n",
    "import seaborn as sns\n",
    "\n",
    "from statsmodels.distributions.empirical_distribution import ECDF\n",
    "\n",
    "from statsmodels.tsa.seasonal import  seasonal_decompose\n",
    "from statsmodels.graphics.tsaplots import plot_acf, plot_pacf\n",
    "\n",
    "from fbprophet import Prophet"
   ]
  },
  {
   "cell_type": "code",
   "execution_count": 22,
   "metadata": {},
   "outputs": [
    {
     "name": "stdout",
     "output_type": "stream",
     "text": [
      "            Store  DayOfWeek  Sales  Customers  Open  Promo StateHoliday  \\\n",
      "Date                                                                       \n",
      "2015-07-31      1          5   5263        555     1      1            0   \n",
      "2015-07-31      2          5   6064        625     1      1            0   \n",
      "2015-07-31      3          5   8314        821     1      1            0   \n",
      "2015-07-31      4          5  13995       1498     1      1            0   \n",
      "2015-07-31      5          5   4822        559     1      1            0   \n",
      "\n",
      "            SchoolHoliday  \n",
      "Date                       \n",
      "2015-07-31              1  \n",
      "2015-07-31              1  \n",
      "2015-07-31              1  \n",
      "2015-07-31              1  \n",
      "2015-07-31              1  \n",
      "   Store StoreType Assortment  CompetitionDistance  CompetitionOpenSinceMonth  \\\n",
      "0      1         c          a               1270.0                        9.0   \n",
      "1      2         a          a                570.0                       11.0   \n",
      "2      3         a          a              14130.0                       12.0   \n",
      "3      4         c          c                620.0                        9.0   \n",
      "4      5         a          a              29910.0                        4.0   \n",
      "\n",
      "   CompetitionOpenSinceYear  Promo2  Promo2SinceWeek  Promo2SinceYear  \\\n",
      "0                    2008.0       0              NaN              NaN   \n",
      "1                    2007.0       1             13.0           2010.0   \n",
      "2                    2006.0       1             14.0           2011.0   \n",
      "3                    2009.0       0              NaN              NaN   \n",
      "4                    2015.0       0              NaN              NaN   \n",
      "\n",
      "     PromoInterval  \n",
      "0              NaN  \n",
      "1  Jan,Apr,Jul,Oct  \n",
      "2  Jan,Apr,Jul,Oct  \n",
      "3              NaN  \n",
      "4              NaN  \n"
     ]
    }
   ],
   "source": [
    "train = pd.read_csv(\"./data/train.csv\", parse_dates= True, low_memory=False, index_col='Date')\n",
    "store = pd.read_csv(\"./data/store.csv\", low_memory=False)\n",
    "print(train.head())\n",
    "print(store.head())"
   ]
  },
  {
   "cell_type": "markdown",
   "metadata": {},
   "source": [
    "### Data fields\n",
    "\n",
    "Most of the fields are self-explanatory. The following are descriptions for those that aren't.\n",
    "\n",
    "- Id - an Id that represents a (Store, Date) duple within the test set\n",
    "- Store - a unique Id for each store\n",
    "- Sales - the turnover for any given day (this is what you are predicting)\n",
    "- Customers - the number of customers on a given day\n",
    "- Open - an indicator for whether the store was open: 0 = closed, 1 = open\n",
    "- StateHoliday - indicates a state holiday. Normally all stores, with few exceptions, are - closed on state holidays. Note that all schools are closed on public holidays and weekends. a = public holiday, b = Easter holiday, c = Christmas, 0 = None\n",
    "- SchoolHoliday - indicates if the (Store, Date) was affected by the closure of public schools\n",
    "- StoreType - differentiates between 4 different store models: a, b, c, d\n",
    "- Assortment - describes an assortment level: a = basic, b = extra, c = extended\n",
    "- CompetitionDistance - distance in meters to the nearest competitor store\n",
    "- CompetitionOpenSince[Month/Year] - gives the approximate year and month of the time the nearest competitor was opened\n",
    "- Promo - indicates whether a store is running a promo on that day\n",
    "- Promo2 - Promo2 is a continuing and consecutive promotion for some stores: 0 = store is not participating, 1 = store is participating\n",
    "- Promo2Since[Year/Week] - describes the year and calendar week when the store started participating in Promo2\n",
    "- PromoInterval - describes the consecutive intervals Promo2 is started, naming the months the promotion is started anew. E.g. \"Feb,May,Aug,Nov\" means each round starts in February, May, August, November of any given year for that store"
   ]
  },
  {
   "cell_type": "markdown",
   "metadata": {},
   "source": [
    "### Data Analysis"
   ]
  },
  {
   "cell_type": "code",
   "execution_count": 23,
   "metadata": {},
   "outputs": [
    {
     "name": "stdout",
     "output_type": "stream",
     "text": [
      "((1017209, 8), (1115, 10))\n",
      "Store            0\n",
      "DayOfWeek        0\n",
      "Sales            0\n",
      "Customers        0\n",
      "Open             0\n",
      "Promo            0\n",
      "StateHoliday     0\n",
      "SchoolHoliday    0\n",
      "dtype: int64\n",
      "Store                          0\n",
      "StoreType                      0\n",
      "Assortment                     0\n",
      "CompetitionDistance            3\n",
      "CompetitionOpenSinceMonth    354\n",
      "CompetitionOpenSinceYear     354\n",
      "Promo2                         0\n",
      "Promo2SinceWeek              544\n",
      "Promo2SinceYear              544\n",
      "PromoInterval                544\n",
      "dtype: int64\n"
     ]
    }
   ],
   "source": [
    "print(train.shape, store.shape)\n",
    "print(train.isnull().sum(axis=0))\n",
    "print(store.isnull().sum(axis=0))"
   ]
  },
  {
   "cell_type": "code",
   "execution_count": 24,
   "metadata": {
    "collapsed": true
   },
   "outputs": [],
   "source": [
    "# Since this is time series analysis, extract year, month, day and weekof the year from the data\n",
    "train['year'] = train.index.year\n",
    "train['month'] = train.index.month\n",
    "train['day'] = train.index.day\n",
    "train['weekofyear'] = train.index.weekofyear"
   ]
  },
  {
   "cell_type": "code",
   "execution_count": 25,
   "metadata": {},
   "outputs": [
    {
     "data": {
      "text/plain": [
       "[<matplotlib.lines.Line2D at 0x1159f1fd0>]"
      ]
     },
     "execution_count": 25,
     "metadata": {},
     "output_type": "execute_result"
    },
    {
     "data": {
      "image/png": "[encoded data removed]",
      "text/plain": [
       "<matplotlib.figure.Figure at 0x1141a1550>"
      ]
     },
     "metadata": {},
     "output_type": "display_data"
    }
   ],
   "source": [
    "# Emperical cumulative distribution function:\n",
    "fig = plt.figure(figsize=(10, 6), dpi=100)\n",
    "\n",
    "plt.subplot(211)\n",
    "plt.grid(axis='both')\n",
    "plt.xlabel(\"Sales\")\n",
    "cdf = ECDF(train['Sales'])\n",
    "plt.plot(cdf.x, cdf.y, label='statsmodels')\n",
    "\n",
    "plt.subplot(212)\n",
    "plt.grid(axis='both')\n",
    "plt.xlabel(\"Customers\")\n",
    "cdf = ECDF(train['Customers'])\n",
    "plt.plot(cdf.x, cdf.y, label='statsmodels')\n",
    "\n",
    "# from the plots below we can see that close to 20% of the sales are $0 \n",
    "# and close to 20% of the customers are zero"
   ]
  },
  {
   "cell_type": "code",
   "execution_count": 26,
   "metadata": {},
   "outputs": [
    {
     "name": "stdout",
     "output_type": "stream",
     "text": [
      "('Number of stores with zero sales and its percent', 172871, 5)\n",
      "('Number of closed stores AND with zero sales', 172817)\n",
      "('Number of open stores AND with zero sales', 54)\n",
      "('Number of closed stores', 172817)\n"
     ]
    }
   ],
   "source": [
    "#From the plot above, since some of the stores may be closed, find what percent of those\n",
    "# contribute to the zero sales seen in above graph\n",
    "print(\"Number of stores with zero sales and its percent\", len(train[train['Sales']==0]), train.shape[0]/len(train[train['Sales']==0]) )\n",
    "print(\"Number of closed stores AND with zero sales\", len(train[(train['Sales']==0) & (train['Open']==0)]))\n",
    "print(\"Number of open stores AND with zero sales\", len(train[(train['Sales']==0) & (train['Open']==1)]))\n",
    "print(\"Number of closed stores\", len(train[train['Open']==0]))\n",
    "#Most of the zero sales are due to closed stores. We can safely remove these tows from the data"
   ]
  },
  {
   "cell_type": "code",
   "execution_count": 62,
   "metadata": {},
   "outputs": [
    {
     "name": "stdout",
     "output_type": "stream",
     "text": [
      "(1017209, 172871)\n"
     ]
    }
   ],
   "source": [
    "df = train[train['Sales']==0]\n",
    "print(train.shape[0], df.shape[0])"
   ]
  },
  {
   "cell_type": "code",
   "execution_count": 28,
   "metadata": {},
   "outputs": [
    {
     "data": {
      "text/plain": [
       "(844338, 12)"
      ]
     },
     "execution_count": 28,
     "metadata": {},
     "output_type": "execute_result"
    }
   ],
   "source": [
    "#Removing closed stores and with no sales\n",
    "trainx = train[(train['Sales']!=0) & (train['Open']!=0)]\n",
    "trainx.shape"
   ]
  },
  {
   "cell_type": "code",
   "execution_count": null,
   "metadata": {},
   "outputs": [],
   "source": []
  },
  {
   "cell_type": "code",
   "execution_count": null,
   "metadata": {
    "collapsed": true
   },
   "outputs": [],
   "source": []
  }
 ],
 "metadata": {
  "kernelspec": {
   "display_name": "Python 2",
   "language": "python",
   "name": "python2"
  },
  "language_info": {
   "codemirror_mode": {
    "name": "ipython",
    "version": 2
   },
   "file_extension": ".py",
   "mimetype": "text/x-python",
   "name": "python",
   "nbconvert_exporter": "python",
   "pygments_lexer": "ipython2",
   "version": "2.7.13"
  }
 },
 "nbformat": 4,
 "nbformat_minor": 2
}
